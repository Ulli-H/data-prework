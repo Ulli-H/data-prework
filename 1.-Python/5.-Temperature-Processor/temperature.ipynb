{
 "cells": [
  {
   "cell_type": "markdown",
   "metadata": {},
   "source": [
    "<img src=\"https://bit.ly/2VnXWr2\" width=\"100\" align=\"left\">"
   ]
  },
  {
   "cell_type": "markdown",
   "metadata": {},
   "source": [
    "# Temperature Sensor\n",
    "\n",
    "There is a temperature sensor in the processor of your company's server. The company wants to analyze the data provided by the sensor to decide if they should change the cooling system for a better one. As changing the cooling system is expensive and you are an excellent data analyst, you can't make a decision without basis.\n",
    "\n",
    "## Tools\n",
    "You don't necessarily need to use all the tools. Maybe you opt to use some of them or completely different ones, they are given to help you shape the exercise. Programming exercises can be solved in many different ways.\n",
    "1. Data structures: **lists**\n",
    "2. Loops: **list comprehension**\n",
    "3. Functions: **min, max, print, len**\n",
    "4. Conditional statements: **if-elif-else**\n",
    "\n",
    "## Tasks\n",
    "The temperatures measured throughout the 24 hours of a day are:"
   ]
  },
  {
   "cell_type": "code",
   "execution_count": 2,
   "metadata": {},
   "outputs": [],
   "source": [
    "temperatures_C = [33, 66, 65, 0, 59, 60, 62, 64, 70, 76, 80, 81, 80, 83, 90, 79, 61, 53, 50, 49, 53, 48, 45, 39]"
   ]
  },
  {
   "cell_type": "markdown",
   "metadata": {},
   "source": [
    "The first element of the list is the temperature at 12am, the second element is the temperature at 1am, and so on. \n",
    "\n",
    "The company has decided that if one of the following events occurs, then the cooling system needs to be replaced for a new one to avoid damaging the processor.\n",
    "* More than 4 temperatures are greater than or equal to 70ºC.\n",
    "* Any temperature is above 80ºC.\n",
    "* The average temperature exceeds 65ºC.\n",
    "\n",
    "Follow the steps so that you can make the decision.\n",
    "\n",
    "#### 1. Find the minimum temperature of the day and store it in a variable."
   ]
  },
  {
   "cell_type": "code",
   "execution_count": 3,
   "metadata": {},
   "outputs": [],
   "source": [
    "min_temperature= min(temperatures_C)"
   ]
  },
  {
   "cell_type": "markdown",
   "metadata": {},
   "source": [
    "#### 2. Find the maximum temperature of the day and store it in a variable."
   ]
  },
  {
   "cell_type": "code",
   "execution_count": 4,
   "metadata": {},
   "outputs": [],
   "source": [
    "max_temperature= max(temperatures_C)"
   ]
  },
  {
   "cell_type": "markdown",
   "metadata": {},
   "source": [
    "#### 3. Create a list with the temperatures that are greater than or equal to 70ºC. Store it in a variable."
   ]
  },
  {
   "cell_type": "code",
   "execution_count": 5,
   "metadata": {},
   "outputs": [
    {
     "name": "stdout",
     "output_type": "stream",
     "text": [
      "[70, 76, 80, 81, 80, 83, 90, 79]\n"
     ]
    }
   ],
   "source": [
    "temp_plus70= []\n",
    "\n",
    "for element in temperatures_C:\n",
    "    if element >= 70:\n",
    "        temp_plus70.append(element)\n",
    "        \n",
    "print(temp_plus70)"
   ]
  },
  {
   "cell_type": "markdown",
   "metadata": {},
   "source": [
    "#### 4. Find the average temperature of the day and store it in a variable."
   ]
  },
  {
   "cell_type": "code",
   "execution_count": 6,
   "metadata": {},
   "outputs": [
    {
     "name": "stdout",
     "output_type": "stream",
     "text": [
      "60.25\n"
     ]
    }
   ],
   "source": [
    "average_temperature = sum(temperatures_C)/ len(temperatures_C)\n",
    "print(average_temperature)"
   ]
  },
  {
   "cell_type": "markdown",
   "metadata": {},
   "source": [
    "#### 5. Imagine that there was a sensor failure at 3am and the data for that specific hour was not recorded. How would you estimate the missing value? Replace the current value of the list at 3am for an estimation. "
   ]
  },
  {
   "cell_type": "code",
   "execution_count": 7,
   "metadata": {},
   "outputs": [
    {
     "name": "stdout",
     "output_type": "stream",
     "text": [
      "[33, 66, 65, 62.0, 59, 60, 62, 64, 70, 76, 80, 81, 80, 83, 90, 79, 61, 53, 50, 49, 53, 48, 45, 39]\n"
     ]
    }
   ],
   "source": [
    "temperatures_C[3]= (temperatures_C[2]+temperatures_C[4])/2\n",
    "\n",
    "print(temperatures_C)"
   ]
  },
  {
   "cell_type": "markdown",
   "metadata": {},
   "source": [
    "#### 6. Bonus: the maintenance staff is from the United States and does not understand the international metric system. Help them by converting the temperatures from Celsius to Fahrenheit.\n",
    "To know more about temperature conversion check this [link](https://en.wikipedia.org/wiki/Conversion_of_units_of_temperature).\n",
    "\n",
    "**Formula**: \n",
    "\n",
    "$F = 1.8 * C + 32$"
   ]
  },
  {
   "cell_type": "code",
   "execution_count": 8,
   "metadata": {},
   "outputs": [
    {
     "name": "stdout",
     "output_type": "stream",
     "text": [
      "[91.4, 150.8, 149.0, 143.60000000000002, 138.2, 140.0, 143.60000000000002, 147.2, 158.0, 168.8, 176.0, 177.8, 176.0, 181.4, 194.0, 174.20000000000002, 141.8, 127.4, 122.0, 120.2, 127.4, 118.4, 113.0, 102.2]\n"
     ]
    }
   ],
   "source": [
    "temperatures_F=[]\n",
    "\n",
    "for i in temperatures_C:\n",
    "    temperatures_F.append((i*1.8)+32)\n",
    "    \n",
    "print(temperatures_F)"
   ]
  },
  {
   "cell_type": "markdown",
   "metadata": {},
   "source": [
    "#### 7. Make a decision!\n",
    "Now it's time to make a decision taking into account what you have seen until now. \n",
    "\n",
    "Remember that if one of the following events occurs, then the cooling system needs to be replaced for a new one to avoid damaging the processor.\n",
    "* More than 4 temperatures are greater than or equal to 70ºC.\n",
    "* Any temperature is above 80ºC.\n",
    "* The average temperature exceeds 65ºC.\n",
    "\n",
    "#### To make your decision, check if any of the three conditions above is met. You might need to use some of the variables you created in steps 1 to 6. Print a message to show if the cooling system needs to be changed or not."
   ]
  },
  {
   "cell_type": "code",
   "execution_count": 9,
   "metadata": {},
   "outputs": [
    {
     "name": "stdout",
     "output_type": "stream",
     "text": [
      "The cooling system needs to be changed\n"
     ]
    }
   ],
   "source": [
    "if len(temp_plus70)>4:\n",
    "    print(\"The cooling system needs to be changed\")\n",
    "elif element in temperatures_C > 80:\n",
    "    print(\"The cooling system needs to be changed\")\n",
    "elif average_temperature > 65:\n",
    "    print(\"The cooling system needs to be changed\")\n",
    "else:\n",
    "    print(\"The cooling system works fine\")"
   ]
  },
  {
   "cell_type": "markdown",
   "metadata": {},
   "source": [
    "## Bonus\n",
    "\n",
    "The company has decided that the decision you made is not valid. They want you to analyze the data again but this time, the conditions that need to be met in order to change the cooling system are different.\n",
    "\n",
    "This time, if one of the following events occurs, then the cooling system needs to be replaced:\n",
    "* The temperature is greater than 70ºC during more than 4 consecutive hours.\n",
    "* Any temperature is above 80ºC.\n",
    "* The average temperature exceeds 65ºC.\n",
    "\n",
    "Follow the steps so that you can make the decision.\n",
    "\n",
    "#### 1. Create a list with the hours where the temperature is greater than 70ºC. Store it in a variable."
   ]
  },
  {
   "cell_type": "code",
   "execution_count": 10,
   "metadata": {},
   "outputs": [
    {
     "name": "stdout",
     "output_type": "stream",
     "text": [
      "[8, 9, 10, 11, 12, 13, 14, 15]\n"
     ]
    }
   ],
   "source": [
    "hours_plus70= []\n",
    "\n",
    "for i in range(0, len(temperatures_C)):\n",
    "    if temperatures_C[i] >= 70:\n",
    "        hours_plus70.append(i)\n",
    "        \n",
    "print(hours_plus70)\n",
    "\n"
   ]
  },
  {
   "cell_type": "markdown",
   "metadata": {},
   "source": [
    "#### 2. Check if the list you created in step 1 has more than 4 consecutive hours. "
   ]
  },
  {
   "cell_type": "code",
   "execution_count": 12,
   "metadata": {},
   "outputs": [
    {
     "name": "stdout",
     "output_type": "stream",
     "text": [
      "All elements are consecutive\n"
     ]
    }
   ],
   "source": [
    "#if max(hours_plus70) - min(hours_plus70) + 1 = len(hours_plus70)\n",
    "n= len(hours_plus70)\n",
    "\n",
    "def are_consecutive(hours_plus70, n):\n",
    "    if (n< 1):\n",
    "        return False\n",
    "    \n",
    "    Min = min(hours_plus70)\n",
    "    Max = max(hours_plus70)\n",
    "    \n",
    "    if (Max - Min + 1 == n):\n",
    "        visited = [False for i in range(n)]\n",
    "        \n",
    "    for i in range(n):\n",
    "        if (visited[hours_plus70[i] - Min] != False):\n",
    "            return False\n",
    "        visited[hours_plus70[i] - Min] = True\n",
    "    return True\n",
    "\n",
    "if (are_consecutive(hours_plus70, n) == True):\n",
    "    print(\"All elements are consecutive\")\n",
    "else:\n",
    "    print(\"Not alle elements are consecutive\")\n",
    "    "
   ]
  },
  {
   "cell_type": "markdown",
   "metadata": {},
   "source": [
    "#### 3. Make the decision!\n",
    "To make your decision, check if any of the three conditions is met. Print a message to show if the cooling system needs to be changed or not."
   ]
  },
  {
   "cell_type": "code",
   "execution_count": 13,
   "metadata": {},
   "outputs": [
    {
     "name": "stdout",
     "output_type": "stream",
     "text": [
      "The cooling system needs to be changed\n"
     ]
    }
   ],
   "source": [
    "if (are_consecutive(hours_plus70, n) == True):\n",
    "    print(\"The cooling system needs to be changed\")\n",
    "elif element in temperatures_C > 80:\n",
    "    print(\"The cooling system needs to be changed\")\n",
    "elif average_temperature > 65:\n",
    "    print(\"The cooling system needs to be changed\")\n",
    "else:\n",
    "    print(\"The cooling system works fine\")"
   ]
  },
  {
   "cell_type": "markdown",
   "metadata": {},
   "source": [
    "#### 4. Find the average value of the temperature lists (ºC and ºF). What is the relation between both average values?"
   ]
  },
  {
   "cell_type": "code",
   "execution_count": 11,
   "metadata": {
    "scrolled": false
   },
   "outputs": [
    {
     "name": "stdout",
     "output_type": "stream",
     "text": [
      "62.833333333333336\n",
      "145.1\n"
     ]
    }
   ],
   "source": [
    "average_tempC= sum(temperatures_C)/len(temperatures_C)\n",
    "average_tempF= sum(temperatures_F)/len(temperatures_F)\n",
    "\n",
    "print(average_tempC)\n",
    "print(average_tempF)"
   ]
  },
  {
   "cell_type": "markdown",
   "metadata": {},
   "source": [
    "#### 5. Find the standard deviation of the temperature lists (ºC and ºF). What is the relation between both standard deviations?"
   ]
  },
  {
   "cell_type": "code",
   "execution_count": 14,
   "metadata": {},
   "outputs": [
    {
     "name": "stdout",
     "output_type": "stream",
     "text": [
      "Standard deviation of tempartures in Celsius:  14.633485192833897\n",
      "Standard deviation of tempartures in Farenheit:  26.34027334710101\n"
     ]
    }
   ],
   "source": [
    "import numpy as np\n",
    "\n",
    "standard_deviation_tempC = np.std(temperatures_C)\n",
    "standard_deviation_tempF = np.std(temperatures_F)\n",
    "print(\"Standard deviation of tempartures in Celsius: \", standard_deviation_tempC )\n",
    "print(\"Standard deviation of tempartures in Farenheit: \", standard_deviation_tempF )\n",
    "\n"
   ]
  },
  {
   "cell_type": "code",
   "execution_count": null,
   "metadata": {},
   "outputs": [],
   "source": [
    "# variance= sum((n - Average_occupation)** 2 for n in list_occupation[: len(stops)]) / (len(stops) - 1)\n",
    "# standard_deviation= variance**0.5"
   ]
  }
 ],
 "metadata": {
  "kernelspec": {
   "display_name": "Python 3",
   "language": "python",
   "name": "python3"
  },
  "language_info": {
   "codemirror_mode": {
    "name": "ipython",
    "version": 3
   },
   "file_extension": ".py",
   "mimetype": "text/x-python",
   "name": "python",
   "nbconvert_exporter": "python",
   "pygments_lexer": "ipython3",
   "version": "3.7.6"
  }
 },
 "nbformat": 4,
 "nbformat_minor": 2
}
